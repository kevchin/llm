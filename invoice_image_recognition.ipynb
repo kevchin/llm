{
 "cells": [
  {
   "cell_type": "markdown",
   "id": "dc507adb-8ed4-4df2-b603-f85f3b8659a9",
   "metadata": {},
   "source": [
    "## Image to question anser\n",
    "  * from: https://huggingface.co/docs/transformers/pipeline_tutorial\n",
    "  \n",
    "The pipeline() supports more than one modality. For example, a visual question answering (VQA) task combines text and image. Feel free to use any image link you like and a question you want to ask about the image. The image can be a URL or a local path to the image."
   ]
  },
  {
   "cell_type": "code",
   "execution_count": 1,
   "id": "04eba470-dd79-409e-9fee-297be72bb05e",
   "metadata": {
    "tags": []
   },
   "outputs": [],
   "source": [
    "image_invoice = 'https://huggingface.co/spaces/impira/docquery/resolve/2359223c1837a7587402bda0f2643382a6eefeab/invoice.png'"
   ]
  },
  {
   "cell_type": "code",
   "execution_count": 2,
   "id": "0f10dedd-2ee8-4c72-bf7d-b0510d89bd2c",
   "metadata": {
    "tags": []
   },
   "outputs": [
    {
     "data": {
      "text/html": [
       "<img src=\"https://huggingface.co/spaces/impira/docquery/resolve/2359223c1837a7587402bda0f2643382a6eefeab/invoice.png\"/>"
      ],
      "text/plain": [
       "<IPython.core.display.Image object>"
      ]
     },
     "execution_count": 2,
     "metadata": {},
     "output_type": "execute_result"
    }
   ],
   "source": [
    "from IPython.display import Image\n",
    "from IPython.core.display import HTML \n",
    "Image(url= image_invoice)"
   ]
  },
  {
   "cell_type": "code",
   "execution_count": 3,
   "id": "3cd41a9c-2525-49c1-97de-874a77401155",
   "metadata": {
    "tags": []
   },
   "outputs": [
    {
     "name": "stdout",
     "output_type": "stream",
     "text": [
      "Intel MKL WARNING: Support of Intel(R) Streaming SIMD Extensions 4.2 (Intel(R) SSE4.2) enabled only processors has been deprecated. Intel oneAPI Math Kernel Library 2025.0 will require Intel(R) Advanced Vector Extensions (Intel(R) AVX) instructions.\n",
      "Intel MKL WARNING: Support of Intel(R) Streaming SIMD Extensions 4.2 (Intel(R) SSE4.2) enabled only processors has been deprecated. Intel oneAPI Math Kernel Library 2025.0 will require Intel(R) Advanced Vector Extensions (Intel(R) AVX) instructions.\n"
     ]
    }
   ],
   "source": [
    "from transformers import pipeline"
   ]
  },
  {
   "cell_type": "markdown",
   "id": "0d1c3b45-911e-4a87-9d82-e621422038dc",
   "metadata": {},
   "source": [
    "## Visual Question Answer = VQA\n",
    "  * depends on image OCR - tesseract package/binary"
   ]
  },
  {
   "cell_type": "code",
   "execution_count": 4,
   "id": "afbda136-1ae2-4e35-aee1-3f7f8939d56d",
   "metadata": {
    "tags": []
   },
   "outputs": [],
   "source": [
    "vqa = pipeline(model=\"impira/layoutlm-document-qa\")"
   ]
  },
  {
   "cell_type": "code",
   "execution_count": 5,
   "id": "bbf7bbe5-ebf2-415b-88a0-d912db3ddd73",
   "metadata": {
    "tags": []
   },
   "outputs": [
    {
     "data": {
      "text/plain": [
       "[{'score': 0.9998127222061157, 'answer': 'us-001', 'start': 15, 'end': 15}]"
      ]
     },
     "execution_count": 5,
     "metadata": {},
     "output_type": "execute_result"
    }
   ],
   "source": [
    "vqa(\n",
    "    image=image_invoice,\n",
    "    question=\"What is the invoice number?\",\n",
    ")"
   ]
  },
  {
   "cell_type": "code",
   "execution_count": 6,
   "id": "f6b26fa6-7543-4b1c-bafa-3a0e4df8fcc7",
   "metadata": {
    "tags": []
   },
   "outputs": [
    {
     "data": {
      "text/plain": [
       "[{'score': 0.995294988155365, 'answer': '$154.06', 'start': 74, 'end': 74}]"
      ]
     },
     "execution_count": 6,
     "metadata": {},
     "output_type": "execute_result"
    }
   ],
   "source": [
    "vqa(\n",
    "    image=image_invoice,\n",
    "    question=\"What is the total price?\",\n",
    ")"
   ]
  },
  {
   "cell_type": "code",
   "execution_count": 7,
   "id": "43085c23-cbd7-4cee-ac4c-6e0abea1369d",
   "metadata": {
    "tags": []
   },
   "outputs": [
    {
     "data": {
      "text/plain": [
       "[{'score': 0.999400794506073,\n",
       "  'answer': 'within 15 days.',\n",
       "  'start': 84,\n",
       "  'end': 86}]"
      ]
     },
     "execution_count": 7,
     "metadata": {},
     "output_type": "execute_result"
    }
   ],
   "source": [
    "vqa(\n",
    "    image=image_invoice,\n",
    "    question=\"When is the payment due?\",\n",
    ")"
   ]
  },
  {
   "cell_type": "code",
   "execution_count": 8,
   "id": "0d46252b-21ab-459a-9046-6225bd2eb1d5",
   "metadata": {
    "tags": []
   },
   "outputs": [
    {
     "data": {
      "text/plain": [
       "[{'score': 0.931580662727356, 'answer': 'John Smith', 'start': 16, 'end': 17}]"
      ]
     },
     "execution_count": 8,
     "metadata": {},
     "output_type": "execute_result"
    }
   ],
   "source": [
    "vqa(\n",
    "    image=image_invoice,\n",
    "    question=\"Who is this bill from?\",\n",
    ")"
   ]
  },
  {
   "cell_type": "code",
   "execution_count": 9,
   "id": "9d22e84e-856a-4c5d-bed2-316469d312e5",
   "metadata": {
    "tags": []
   },
   "outputs": [
    {
     "data": {
      "text/plain": [
       "[{'score': 0.592963457107544,\n",
       "  'answer': 'brake cables',\n",
       "  'start': 51,\n",
       "  'end': 52}]"
      ]
     },
     "execution_count": 9,
     "metadata": {},
     "output_type": "execute_result"
    }
   ],
   "source": [
    "vqa(\n",
    "    image=image_invoice,\n",
    "    question=\"What was the most expensive item on this invoice?\",\n",
    ")"
   ]
  },
  {
   "cell_type": "code",
   "execution_count": 10,
   "id": "54da32fa-ca19-4dd5-b984-7ed614aac316",
   "metadata": {
    "tags": []
   },
   "outputs": [
    {
     "data": {
      "text/plain": [
       "[{'score': 0.9887761473655701, 'answer': '100.00', 'start': 53, 'end': 53}]"
      ]
     },
     "execution_count": 10,
     "metadata": {},
     "output_type": "execute_result"
    }
   ],
   "source": [
    "vqa(\n",
    "    image=image_invoice,\n",
    "    question=\"What was the cost of the most expensive item on this invoice?\",\n",
    ")"
   ]
  },
  {
   "cell_type": "code",
   "execution_count": 11,
   "id": "3ab28998-60b4-47cd-a441-c8ec3c95c4fa",
   "metadata": {
    "tags": []
   },
   "outputs": [],
   "source": [
    "invoice2 = 'https://www.zoho.com/invoice/images/invoice-templates/sales-invoice-template/sales-invoice-template-2x.jpg'"
   ]
  },
  {
   "cell_type": "code",
   "execution_count": 12,
   "id": "386e5fd3-8392-4005-bb7d-307bf0050f14",
   "metadata": {},
   "outputs": [
    {
     "data": {
      "text/html": [
       "<img src=\"https://www.zoho.com/invoice/images/invoice-templates/sales-invoice-template/sales-invoice-template-2x.jpg\"/>"
      ],
      "text/plain": [
       "<IPython.core.display.Image object>"
      ]
     },
     "execution_count": 12,
     "metadata": {},
     "output_type": "execute_result"
    }
   ],
   "source": [
    "Image(url= invoice2)"
   ]
  },
  {
   "cell_type": "code",
   "execution_count": 13,
   "id": "7a31503a-fc24-4d15-a0ac-d0b743ca4200",
   "metadata": {
    "tags": []
   },
   "outputs": [
    {
     "data": {
      "text/plain": [
       "[{'score': 0.3901703953742981, 'answer': '61.97', 'start': 129, 'end': 129}]"
      ]
     },
     "execution_count": 13,
     "metadata": {},
     "output_type": "execute_result"
    }
   ],
   "source": [
    "vqa(\n",
    "    image=invoice2,\n",
    "    question=\"What is the sub total?\",\n",
    ")"
   ]
  },
  {
   "cell_type": "code",
   "execution_count": 14,
   "id": "8cad37b4-059d-45ee-8d9b-f816f3fbe771",
   "metadata": {
    "tags": []
   },
   "outputs": [
    {
     "data": {
      "text/plain": [
       "[{'score': 0.9991297125816345,\n",
       "  'answer': '18 May 2023',\n",
       "  'start': 40,\n",
       "  'end': 42}]"
      ]
     },
     "execution_count": 14,
     "metadata": {},
     "output_type": "execute_result"
    }
   ],
   "source": [
    "vqa(\n",
    "    image=invoice2,\n",
    "    question=\"When was the invoice issued?\",\n",
    ")"
   ]
  },
  {
   "cell_type": "markdown",
   "id": "d5eea74e-7f5b-4e92-8eeb-62e0b7eed61a",
   "metadata": {},
   "source": [
    "## Wrong answers"
   ]
  },
  {
   "cell_type": "code",
   "execution_count": 15,
   "id": "84573a94-0e66-42f0-8777-67a1d1f59cf5",
   "metadata": {
    "tags": []
   },
   "outputs": [
    {
     "data": {
      "text/plain": [
       "[{'score': 0.5143300294876099, 'answer': '61.97', 'start': 129, 'end': 129}]"
      ]
     },
     "execution_count": 15,
     "metadata": {},
     "output_type": "execute_result"
    }
   ],
   "source": [
    "vqa(\n",
    "    image=invoice2,\n",
    "    question=\"What was the tax rate?\",\n",
    ")"
   ]
  },
  {
   "cell_type": "code",
   "execution_count": 16,
   "id": "02dc36b7-babe-4c43-afe5-ea864cdfcb1b",
   "metadata": {
    "tags": []
   },
   "outputs": [
    {
     "data": {
      "text/plain": [
       "[{'score': 0.0004851834091823548, 'answer': '61.97', 'start': 129, 'end': 129}]"
      ]
     },
     "execution_count": 16,
     "metadata": {},
     "output_type": "execute_result"
    }
   ],
   "source": [
    "vqa(\n",
    "    image=invoice2,\n",
    "    question=\"What was the least expensive item?\",\n",
    ")"
   ]
  },
  {
   "cell_type": "code",
   "execution_count": 17,
   "id": "088ae2e0-9b9e-4650-b287-99653596df40",
   "metadata": {
    "tags": []
   },
   "outputs": [
    {
     "data": {
      "text/plain": [
       "[{'score': 0.8215174674987793, 'answer': '$65.06', 'start': 131, 'end': 131}]"
      ]
     },
     "execution_count": 17,
     "metadata": {},
     "output_type": "execute_result"
    }
   ],
   "source": [
    "vqa(\n",
    "    image=invoice2,\n",
    "    question=\"What was the cheapest item?\",\n",
    ")"
   ]
  },
  {
   "cell_type": "markdown",
   "id": "5f4a4f65-ed53-41e8-8c21-52baa36b11ce",
   "metadata": {
    "tags": []
   },
   "source": [
    "# Done -ZZZ"
   ]
  },
  {
   "cell_type": "code",
   "execution_count": null,
   "id": "ee810750-fdce-4a1c-a6cf-0b41ccbcd2ec",
   "metadata": {},
   "outputs": [],
   "source": []
  }
 ],
 "metadata": {
  "kernelspec": {
   "display_name": "Python 3 (ipykernel)",
   "language": "python",
   "name": "python3"
  },
  "language_info": {
   "codemirror_mode": {
    "name": "ipython",
    "version": 3
   },
   "file_extension": ".py",
   "mimetype": "text/x-python",
   "name": "python",
   "nbconvert_exporter": "python",
   "pygments_lexer": "ipython3",
   "version": "3.10.11"
  }
 },
 "nbformat": 4,
 "nbformat_minor": 5
}
