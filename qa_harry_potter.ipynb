{
 "cells": [
  {
   "cell_type": "code",
   "execution_count": 1,
   "id": "bd34857c-bb8b-4baf-9058-cf3a33fd83b0",
   "metadata": {
    "tags": []
   },
   "outputs": [
    {
     "name": "stdout",
     "output_type": "stream",
     "text": [
      "Intel MKL WARNING: Support of Intel(R) Streaming SIMD Extensions 4.2 (Intel(R) SSE4.2) enabled only processors has been deprecated. Intel oneAPI Math Kernel Library 2025.0 will require Intel(R) Advanced Vector Extensions (Intel(R) AVX) instructions.\n",
      "Intel MKL WARNING: Support of Intel(R) Streaming SIMD Extensions 4.2 (Intel(R) SSE4.2) enabled only processors has been deprecated. Intel oneAPI Math Kernel Library 2025.0 will require Intel(R) Advanced Vector Extensions (Intel(R) AVX) instructions.\n"
     ]
    }
   ],
   "source": [
    "from transformers import AutoModelForQuestionAnswering, AutoTokenizer, pipeline\n",
    "model_name = \"deepset/roberta-base-squad2\""
   ]
  },
  {
   "cell_type": "code",
   "execution_count": 2,
   "id": "b117adbf-3848-40a2-b1e1-3e08a6fbb0cd",
   "metadata": {
    "tags": []
   },
   "outputs": [],
   "source": [
    "nlp = pipeline('question-answering',model=model_name, tokenizer=model_name)\n",
    "QA_input = {\n",
    "    'question': 'Why is model conversion important?',\n",
    "    'context': 'The option to convert models between FARM and transformers gives freedom to the user and let people easily switch between frameworks.'\n",
    "}"
   ]
  },
  {
   "cell_type": "code",
   "execution_count": 3,
   "id": "bbe54394-fb0b-4567-807c-a17baac5e338",
   "metadata": {
    "tags": []
   },
   "outputs": [],
   "source": [
    "res = nlp(QA_input)"
   ]
  },
  {
   "cell_type": "code",
   "execution_count": 4,
   "id": "ade47a86-ecf0-4792-9a7c-abbe9684376a",
   "metadata": {
    "tags": []
   },
   "outputs": [
    {
     "data": {
      "text/plain": [
       "{'score': 0.2117139995098114,\n",
       " 'start': 59,\n",
       " 'end': 84,\n",
       " 'answer': 'gives freedom to the user'}"
      ]
     },
     "execution_count": 4,
     "metadata": {},
     "output_type": "execute_result"
    }
   ],
   "source": [
    "res"
   ]
  },
  {
   "cell_type": "code",
   "execution_count": 5,
   "id": "26032246-08e3-4e55-8c7f-1a8ce02cc7cd",
   "metadata": {
    "tags": []
   },
   "outputs": [],
   "source": [
    "def findStrings(searchStr, strList, n=10):\n",
    "    \n",
    "    ss = [x.lower() for x in strList]\n",
    "    count = ss.count(searchStr.lower())\n",
    "    matches = []\n",
    "    i = 0\n",
    "    while i < len(strList):\n",
    "        if searchStr in ss[i].lower():\n",
    "            matches.append(i)\n",
    "        i = i + 1\n",
    "        \n",
    "    i = 0\n",
    "    for s in matches:\n",
    "        if (i < n):\n",
    "            txt = ss[s]\n",
    "            x = txt.replace(searchStr, searchStr.upper())\n",
    "            print(x)\n",
    "        i += 1\n",
    "    return(len(matches))\n"
   ]
  },
  {
   "cell_type": "markdown",
   "id": "701600a9-7f2e-4fde-9583-1c44532004ae",
   "metadata": {},
   "source": [
    "## A Harry Potter summary from the internet\n",
    "  * https://www.sparknotes.com/lit/harrypotter/summary/\n",
    "  * then put into a local txt file = 'potter.txt'"
   ]
  },
  {
   "cell_type": "code",
   "execution_count": 6,
   "id": "ebc4013b-ba2f-48b4-9f59-33fdf428067e",
   "metadata": {
    "tags": []
   },
   "outputs": [
    {
     "name": "stdout",
     "output_type": "stream",
     "text": [
      "6922 24\n"
     ]
    }
   ],
   "source": [
    "infile = 'potter.txt'\n",
    "with open(infile, mode='r', encoding='utf-8-sig') as f:\n",
    "    lineCount = f.readlines()\n",
    "    \n",
    "lines = ' '.join(lineCount)\n",
    "lines = lines.replace('\\n', ' ')\n",
    "print (len(lines), len(lineCount))"
   ]
  },
  {
   "cell_type": "code",
   "execution_count": 7,
   "id": "fdbba840-5fdd-4600-b5e5-cdde27c2fa23",
   "metadata": {
    "tags": []
   },
   "outputs": [
    {
     "data": {
      "text/plain": [
       "{'score': 0.8587391376495361, 'start': 245, 'end': 251, 'answer': 'Hagrid'}"
      ]
     },
     "execution_count": 7,
     "metadata": {},
     "output_type": "execute_result"
    }
   ],
   "source": [
    "nlp = pipeline('question-answering',model=model_name, tokenizer=model_name)\n",
    "QA_input = {\n",
    "    'question': 'What is the name of the giant?',\n",
    "    'context': lines\n",
    "}\n",
    "\n",
    "res = nlp(QA_input)\n",
    "res"
   ]
  },
  {
   "cell_type": "code",
   "execution_count": 8,
   "id": "fc7e2110-30d0-4867-a37a-af2c522bfd1b",
   "metadata": {
    "tags": []
   },
   "outputs": [
    {
     "name": "stdout",
     "output_type": "stream",
     "text": [
      "mr. dursley, a well-off englishman, notices strange happenings on his way to work one day. that night, albus dumbledore, the head of a wizardry academy called hogwarts, meets professor mcgonagall, who also teaches at hogwarts, and a GIANT named hagrid outside the dursley home. dumbledore tells mcgonagall that someone named voldemort has killed a mr. and mrs. potter and tried unsuccessfully to kill their baby son, harry. dumbledore leaves harry with an explanatory note in a basket in front of the dursley home.\n",
      "\n"
     ]
    }
   ],
   "source": [
    "matchCount = findStrings('giant', lineCount, n=2)"
   ]
  },
  {
   "cell_type": "code",
   "execution_count": 9,
   "id": "a417b234-ab85-4ab9-93b4-0d7b33d2c23e",
   "metadata": {
    "tags": []
   },
   "outputs": [
    {
     "data": {
      "text/plain": [
       "{'score': 0.0013716659741476178,\n",
       " 'start': 1672,\n",
       " 'end': 1684,\n",
       " 'answer': 'Diagon Alley'}"
      ]
     },
     "execution_count": 9,
     "metadata": {},
     "output_type": "execute_result"
    }
   ],
   "source": [
    "nlp = pipeline('question-answering',model=model_name, tokenizer=model_name)\n",
    "QA_input = {\n",
    "    'question': 'Where do they get the magic wand from?',\n",
    "    'context': lines\n",
    "}\n",
    "\n",
    "res = nlp(QA_input)\n",
    "res"
   ]
  },
  {
   "cell_type": "code",
   "execution_count": 10,
   "id": "55a1e794-69f6-4144-befc-bd74ce2f8303",
   "metadata": {
    "tags": []
   },
   "outputs": [
    {
     "name": "stdout",
     "output_type": "stream",
     "text": [
      "the next day, hagrid takes harry to london to shop for school supplies. first they go to the wizard bank, gringotts, where harry learns that his parents have left him a hefty supply of money. they shop on the wizards’ commercial street known as diagon alley, where harry is fitted for his school uniform. harry buys books, ingredients for potions, and, finally, a magic WAND—the companion WAND to the evil voldemort’s.\n",
      "\n"
     ]
    }
   ],
   "source": [
    "matchCount = findStrings('wand', lineCount, n=2)"
   ]
  },
  {
   "cell_type": "code",
   "execution_count": 11,
   "id": "ea1f326a-2b9e-46ce-b06d-98e5b5684581",
   "metadata": {
    "tags": []
   },
   "outputs": [
    {
     "data": {
      "text/plain": [
       "{'score': 0.323740690946579,\n",
       " 'start': 2677,\n",
       " 'end': 2689,\n",
       " 'answer': 'Draco Malfoy'}"
      ]
     },
     "execution_count": 11,
     "metadata": {},
     "output_type": "execute_result"
    }
   ],
   "source": [
    "nlp = pipeline('question-answering',model=model_name, tokenizer=model_name)\n",
    "QA_input = {\n",
    "    'question': 'What is the name of the bully?',\n",
    "    'context': lines\n",
    "}\n",
    "\n",
    "res = nlp(QA_input)\n",
    "res"
   ]
  },
  {
   "cell_type": "code",
   "execution_count": 12,
   "id": "4a044873-82af-4137-95a7-b1d2b581a9aa",
   "metadata": {
    "tags": []
   },
   "outputs": [
    {
     "name": "stdout",
     "output_type": "stream",
     "text": [
      "as the school year gets underway, harry discovers that his potions professor, snape, does not like him. hagrid reassures harry that snape has no reason to dislike him. during their first flying lesson on broomsticks, the students are told to stay grounded while the teacher takes an injured boy named neville to the hospital. draco malfoy, a slytherin BULLY, snatches neville’s prized toy and flies off with it to the top of a tree. harry flies after him. malfoy throws the ball in the air, and harry speeds downward, making a spectacular catch. professor mcgonagall witnesses this incident. instead of punishing harry, she recommends that he play quidditch, a much-loved game that resembles soccer played on broomsticks, for gryffindor. later that day, malfoy challenges harry to a wizard’s duel at midnight. malfoy doesn’t show up at the appointed place, and harry almost gets in trouble. while trying to hide, he accidentally discovers a fierce three-headed dog guarding a trapdoor in the forbidden third-floor corridor.\n",
      "\n",
      "1\n"
     ]
    }
   ],
   "source": [
    "matchCount = findStrings('bully', lineCount, n=2)\n",
    "print (matchCount)"
   ]
  },
  {
   "cell_type": "code",
   "execution_count": 13,
   "id": "720736b3-01ee-4b63-b7bf-3d6be2074fe2",
   "metadata": {
    "tags": []
   },
   "outputs": [
    {
     "data": {
      "text/plain": [
       "{'score': 0.07946919649839401,\n",
       " 'start': 2999,\n",
       " 'end': 3008,\n",
       " 'answer': 'Quidditch'}"
      ]
     },
     "execution_count": 13,
     "metadata": {},
     "output_type": "execute_result"
    }
   ],
   "source": [
    "nlp = pipeline('question-answering',model=model_name, tokenizer=model_name)\n",
    "QA_input = {\n",
    "    'question': 'What is the name of the game that they play?',\n",
    "    'context': lines\n",
    "}\n",
    "\n",
    "res = nlp(QA_input)\n",
    "res"
   ]
  },
  {
   "cell_type": "code",
   "execution_count": 14,
   "id": "eb31bbbf-d386-4240-a894-87f76f95b6be",
   "metadata": {
    "tags": []
   },
   "outputs": [
    {
     "name": "stdout",
     "output_type": "stream",
     "text": [
      "as the school year gets underway, harry discovers that his potions professor, snape, does not like him. hagrid reassures harry that snape has no reason to dislike him. during their first flying lesson on broomsticks, the students are told to stay grounded while the teacher takes an injured boy named neville to the hospital. draco malfoy, a slytherin bully, snatches neville’s prized toy and flies off with it to the top of a tree. harry flies after him. malfoy throws the ball in the air, and harry speeds downward, making a spectacular catch. professor mcgonagall witnesses this incident. instead of punishing harry, she recommends that he play quidditch, a much-loved GAME that resembles soccer played on broomsticks, for gryffindor. later that day, malfoy challenges harry to a wizard’s duel at midnight. malfoy doesn’t show up at the appointed place, and harry almost gets in trouble. while trying to hide, he accidentally discovers a fierce three-headed dog guarding a trapdoor in the forbidden third-floor corridor.\n",
      "\n",
      "a few weeks later, hagrid wins a dragon egg in a poker GAME. because it is illegal to own dragons, harry, ron, and hermione contact ron’s older brother, who studies dragons. they arrange to get rid of the dragon but get caught. harry, ron, and hermione are severely punished, and gryffindor is docked 150 points. furthermore, part of their punishment is to go into the enchanted forest with hagrid to find out who has been killing unicorns recently. in the forest, harry comes upon a hooded man drinking unicorn blood. the man tries to attack harry, but harry is rescued by a friendly centaur who tells him that his assailant was voldemort. harry also learns that it is voldemort who has been trying to steal the sorcerer’s stone.\n",
      "\n",
      "2\n"
     ]
    }
   ],
   "source": [
    "matchCount = findStrings('game', lineCount, n=2)\n",
    "print (matchCount)"
   ]
  },
  {
   "cell_type": "code",
   "execution_count": 15,
   "id": "2ef30c55-78f5-4a75-8873-a20b118990e5",
   "metadata": {
    "tags": []
   },
   "outputs": [
    {
     "data": {
      "text/plain": [
       "{'score': 0.21834208071231842, 'start': 1866, 'end': 1871, 'answer': 'Harry'}"
      ]
     },
     "execution_count": 15,
     "metadata": {},
     "output_type": "execute_result"
    }
   ],
   "source": [
    "nlp = pipeline('question-answering',model=model_name, tokenizer=model_name)\n",
    "QA_input = {\n",
    "    'question': 'Who gets on the train to Hogwarts?',\n",
    "    'context': lines\n",
    "}\n",
    "\n",
    "res = nlp(QA_input)\n",
    "res"
   ]
  },
  {
   "cell_type": "code",
   "execution_count": 16,
   "id": "636dee98-5e44-4ce5-a885-9b41e440d279",
   "metadata": {
    "tags": []
   },
   "outputs": [
    {
     "name": "stdout",
     "output_type": "stream",
     "text": [
      "a month later, harry goes to the TRAIN station and catches his TRAIN to hogwarts on track nine and three quarters. on the TRAIN, harry befriends other first-year students like ron weasley and hermione granger, a muggle girl chosen to attend hogwarts. at school, the first-years take turns putting on the “sorting hat” to find out in which residential house they will live. harry fears being assigned to the sinister slytherin house, but he, ron, and hermione end up in the noble gryffindor house.\n",
      "\n",
      "1\n"
     ]
    }
   ],
   "source": [
    "matchCount = findStrings('train', lineCount, n=2)\n",
    "print (matchCount)"
   ]
  },
  {
   "cell_type": "code",
   "execution_count": 17,
   "id": "d0aebc7f-378c-4882-b2e3-51a68396850b",
   "metadata": {
    "tags": []
   },
   "outputs": [
    {
     "data": {
      "text/plain": [
       "{'score': 0.5821885466575623,\n",
       " 'start': 1941,\n",
       " 'end': 1964,\n",
       " 'answer': 'nine and three quarters'}"
      ]
     },
     "execution_count": 17,
     "metadata": {},
     "output_type": "execute_result"
    }
   ],
   "source": [
    "nlp = pipeline('question-answering',model=model_name, tokenizer=model_name)\n",
    "QA_input = {\n",
    "    'question': 'Which track was the train on?',\n",
    "    'context': lines\n",
    "}\n",
    "\n",
    "res = nlp(QA_input)\n",
    "res"
   ]
  },
  {
   "cell_type": "code",
   "execution_count": 18,
   "id": "4a53cbb3-d2d0-48a4-b34c-7fbcbb4eb8a2",
   "metadata": {
    "tags": []
   },
   "outputs": [
    {
     "data": {
      "text/plain": [
       "{'score': 0.0026303299237042665,\n",
       " 'start': 4733,\n",
       " 'end': 4740,\n",
       " 'answer': 'illegal'}"
      ]
     },
     "execution_count": 18,
     "metadata": {},
     "output_type": "execute_result"
    }
   ],
   "source": [
    "nlp = pipeline('question-answering',model=model_name, tokenizer=model_name)\n",
    "QA_input = {\n",
    "    'question': 'What can you do with dragons?',\n",
    "    'context': lines\n",
    "}\n",
    "\n",
    "res = nlp(QA_input)\n",
    "res"
   ]
  },
  {
   "cell_type": "markdown",
   "id": "c72f2885-0a1f-4bc7-b8da-1b6f2515f1d3",
   "metadata": {},
   "source": [
    "## Less correct or more difficult"
   ]
  },
  {
   "cell_type": "code",
   "execution_count": 19,
   "id": "d67748b3-be54-4d25-8392-7c8c3c5a852c",
   "metadata": {
    "tags": []
   },
   "outputs": [
    {
     "data": {
      "text/plain": [
       "{'score': 0.00012706354027613997,\n",
       " 'start': 2330,\n",
       " 'end': 2346,\n",
       " 'answer': 'Gryffindor house'}"
      ]
     },
     "execution_count": 19,
     "metadata": {},
     "output_type": "execute_result"
    }
   ],
   "source": [
    "nlp = pipeline('question-answering',model=model_name, tokenizer=model_name)\n",
    "QA_input = {\n",
    "    'question': 'Where is the boa from?',\n",
    "    'context': lines\n",
    "}\n",
    "\n",
    "res = nlp(QA_input)\n",
    "res"
   ]
  },
  {
   "cell_type": "code",
   "execution_count": 20,
   "id": "4db88453-76ce-455d-8ec0-11a724fb335d",
   "metadata": {
    "tags": []
   },
   "outputs": [
    {
     "data": {
      "text/plain": [
       "{'score': 0.10484638810157776,\n",
       " 'start': 685,\n",
       " 'end': 712,\n",
       " 'answer': 'a cupboard under the stairs'}"
      ]
     },
     "execution_count": 20,
     "metadata": {},
     "output_type": "execute_result"
    }
   ],
   "source": [
    "nlp = pipeline('question-answering',model=model_name, tokenizer=model_name)\n",
    "QA_input = {\n",
    "    'question': 'Where does Harry sleep?',\n",
    "    'context': lines\n",
    "}\n",
    "\n",
    "res = nlp(QA_input)\n",
    "res"
   ]
  },
  {
   "cell_type": "code",
   "execution_count": 21,
   "id": "2c1ff583-7462-4e5b-8e18-84ad6f95f670",
   "metadata": {
    "tags": []
   },
   "outputs": [
    {
     "data": {
      "text/plain": [
       "{'score': 0.2671951353549957,\n",
       " 'start': 2292,\n",
       " 'end': 2309,\n",
       " 'answer': 'Ron, and Hermione'}"
      ]
     },
     "execution_count": 21,
     "metadata": {},
     "output_type": "execute_result"
    }
   ],
   "source": [
    "nlp = pipeline('question-answering',model=model_name, tokenizer=model_name)\n",
    "QA_input = {\n",
    "    'question': \"Who are Harry's friends?\",\n",
    "    'context': lines\n",
    "}\n",
    "\n",
    "res = nlp(QA_input)\n",
    "res"
   ]
  },
  {
   "cell_type": "code",
   "execution_count": 22,
   "id": "4e48da5c-9580-486c-9666-bb7833647437",
   "metadata": {
    "tags": []
   },
   "outputs": [
    {
     "name": "stdout",
     "output_type": "stream",
     "text": [
      "a month later, harry goes to the train station and catches his train to hogwarts on track nine and three quarters. on the train, harry beFRIENDs other first-year students like ron weasley and hermione granger, a muggle girl chosen to attend hogwarts. at school, the first-years take turns putting on the “sorting hat” to find out in which residential house they will live. harry fears being assigned to the sinister slytherin house, but he, ron, and hermione end up in the noble gryffindor house.\n",
      "\n",
      "a few weeks later, hagrid wins a dragon egg in a poker game. because it is illegal to own dragons, harry, ron, and hermione contact ron’s older brother, who studies dragons. they arrange to get rid of the dragon but get caught. harry, ron, and hermione are severely punished, and gryffindor is docked 150 points. furthermore, part of their punishment is to go into the enchanted forest with hagrid to find out who has been killing unicorns recently. in the forest, harry comes upon a hooded man drinking unicorn blood. the man tries to attack harry, but harry is rescued by a FRIENDly centaur who tells him that his assailant was voldemort. harry also learns that it is voldemort who has been trying to steal the sorcerer’s stone.\n",
      "\n",
      "3\n"
     ]
    }
   ],
   "source": [
    "matchCount = findStrings('friend', lineCount, n=2)\n",
    "print (matchCount)"
   ]
  },
  {
   "cell_type": "code",
   "execution_count": 23,
   "id": "c09b8564-2e41-4ec4-b684-4ff384ee932a",
   "metadata": {
    "tags": []
   },
   "outputs": [
    {
     "data": {
      "text/plain": [
       "{'score': 0.4386046230792999,\n",
       " 'start': 2330,\n",
       " 'end': 2346,\n",
       " 'answer': 'Gryffindor house'}"
      ]
     },
     "execution_count": 23,
     "metadata": {},
     "output_type": "execute_result"
    }
   ],
   "source": [
    "nlp = pipeline('question-answering',model=model_name, tokenizer=model_name)\n",
    "QA_input = {\n",
    "    'question': \"Which house does Harry end up in?\",\n",
    "    'context': lines\n",
    "}\n",
    "\n",
    "res = nlp(QA_input)\n",
    "res"
   ]
  },
  {
   "cell_type": "markdown",
   "id": "fc442af2-d5ea-40e5-a811-8c8492f91d17",
   "metadata": {},
   "source": [
    "# Done - ZZZZ"
   ]
  },
  {
   "cell_type": "code",
   "execution_count": null,
   "id": "50fdabed-decc-4ed3-a45f-7b9e367565aa",
   "metadata": {},
   "outputs": [],
   "source": []
  }
 ],
 "metadata": {
  "kernelspec": {
   "display_name": "Python 3 (ipykernel)",
   "language": "python",
   "name": "python3"
  },
  "language_info": {
   "codemirror_mode": {
    "name": "ipython",
    "version": 3
   },
   "file_extension": ".py",
   "mimetype": "text/x-python",
   "name": "python",
   "nbconvert_exporter": "python",
   "pygments_lexer": "ipython3",
   "version": "3.10.11"
  }
 },
 "nbformat": 4,
 "nbformat_minor": 5
}
